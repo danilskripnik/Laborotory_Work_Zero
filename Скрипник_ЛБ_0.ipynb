{
 "cells": [
  {
   "cell_type": "markdown",
   "id": "76e5cdde",
   "metadata": {},
   "source": [
    "Примітка:\n",
    "Щоб вибрати номер варіанта, запустіть оператор\n",
    "N = ord(“X”) % 10 + 1,\n",
    "де X – перша велика літера вашого імені в латинській транскрипції."
   ]
  },
  {
   "cell_type": "code",
   "execution_count": 2,
   "id": "dbfa4d27",
   "metadata": {},
   "outputs": [
    {
     "name": "stdout",
     "output_type": "stream",
     "text": [
      "9\n"
     ]
    }
   ],
   "source": [
    "N = ord('D') % 10 + 1\n",
    "print(N)"
   ]
  },
  {
   "cell_type": "markdown",
   "id": "a064c693",
   "metadata": {},
   "source": [
    "У введеному списку залишити тільки непрості числа і\n",
    "відсортувати їх за зменшенням"
   ]
  },
  {
   "cell_type": "code",
   "execution_count": 11,
   "id": "1fa974c7",
   "metadata": {},
   "outputs": [
    {
     "name": "stdout",
     "output_type": "stream",
     "text": [
      "Введіть список чисел через пробіл: 3 12 15 7 11 35 18\n",
      "[35, 18, 15, 12]\n"
     ]
    }
   ],
   "source": [
    "def task_9():\n",
    "  def is_prime(num):\n",
    "    \n",
    "    if num <= 1:\n",
    "      return False\n",
    "\n",
    "    if num <= 3:\n",
    "      return True\n",
    "\n",
    "    if num % 2 == 0 or num % 3 == 0:\n",
    "      return False\n",
    "\n",
    "    i = 5\n",
    "    while i * i <= num:\n",
    "      if num % i == 0 or num % (i + 2) == 0:\n",
    "        return False\n",
    "      i += 6\n",
    "    return True\n",
    "\n",
    "  numbers = list(map(int, input(\"Введіть список чисел через пробіл: \").split()))\n",
    "  non_primes = [num for num in numbers if not is_prime(num) and num != 1 and num != 0]\n",
    "  non_primes.sort(reverse=True)\n",
    "  return non_primes\n",
    "\n",
    "if __name__ == \"__main__\":\n",
    "  result = task_9()\n",
    "  print(result)"
   ]
  },
  {
   "cell_type": "code",
   "execution_count": 12,
   "id": "7e818ad7",
   "metadata": {},
   "outputs": [
    {
     "name": "stdout",
     "output_type": "stream",
     "text": [
      "Введіть список чисел через пробіл: 0 34 2 1 15 22 4 23 6\n",
      "[34, 22, 15, 6, 4]\n"
     ]
    }
   ],
   "source": [
    "if __name__ == \"__main__\":\n",
    "  result = task_9()\n",
    "  print(result)"
   ]
  },
  {
   "cell_type": "markdown",
   "id": "7527c627",
   "metadata": {},
   "source": []
  },
  {
   "cell_type": "markdown",
   "id": "49a58dd9",
   "metadata": {},
   "source": [
    "# Чеська Республіка\n",
    "\n",
    "![Флаг Чеської Республіки](https://upload.wikimedia.org/wikipedia/commons/thumb/c/cb/Flag_of_the_Czech_Republic.svg/2560px-Flag_of_the_Czech_Republic.svg.png)\n",
    "\n",
    "## Основна інформація\n",
    "\n",
    "- **Столиця**: Прага\n",
    "- **Площа**: 78,866 км²\n",
    "- **Населення**: 10,693,939 (станом на 2023 рік)\n",
    "- **Державний устрій**: **парламентська республіка**\n",
    "- **Офіційна мова**: чеська\n",
    "\n",
    "<div style=\"color: green; border: 1px solid green; padding: 5px;\">\n",
    "  Чеська Республіка є членом Європейського Союзу та НАТО.\n",
    "</div>\n",
    "\n",
    "### Видатні персоналії\n",
    "\n",
    "- **Ян Гус** — релігійний реформатор, теолог, національний герой Чехії, один із попередників європейської Реформації.\n",
    "- **Альфонс Муха** — художник та дизайнер, один із найвідоміших представників стилю ар-нуво (модерн).\n",
    "- **Антонін Дворжак** — композитор світової слави, відомий за свої симфонії, включно з \"Симфонією №9 «З Нового Світу»\".\n",
    "- **Карел Чапек** — письменник-фантаст, автор слова \"робот\", яке він використав у своїй п'єсі \"R.U.R.\".\n",
    "\n",
    "### Пам'ятки культури та природи\n",
    "\n",
    "1. **Прага**\n",
    "    - **Староміська площа**\n",
    "    - **Карлів міст**\n",
    "2. **Чеський Крумлов**\n",
    "    - **Замок Чеський Крумлов**\n",
    "    - **Історичний центр**\n",
    "3. **Національні парки**\n",
    "    - **Крконоше**\n",
    "    - **Шумава**\n",
    "\n",
    "<div style=\"border: 2px solid #000; padding: 10px; background-color: #f5f5f5;\">\n",
    "  **Чеська Республіка** (Czech Republic) — країна в Центральній Європі, яка межує з Німеччиною, Польщею, Словаччиною та Австрією.\n",
    "</div>\n",
    "\n",
    "### Таблиця з основними показниками\n",
    "\n",
    "| Показник         | Значення   |\n",
    "|------------------|------------|\n",
    "| Площа            | 78,866 км² |\n",
    "| Населення        | 10,693,939 |\n",
    "| Офіційна мова    | Чеська     |\n",
    "| Валюта           | Чеська крона (CZK) |\n",
    "| Членство в ЄС    | Так        |\n",
    "\n",
    "[Дізнатися більше про Чехію](https://en.wikipedia.org/wiki/Czech_Republic)"
   ]
  },
  {
   "cell_type": "code",
   "execution_count": null,
   "id": "fcd3c5c4",
   "metadata": {},
   "outputs": [],
   "source": []
  }
 ],
 "metadata": {
  "kernelspec": {
   "display_name": "Python 3 (ipykernel)",
   "language": "python",
   "name": "python3"
  },
  "language_info": {
   "codemirror_mode": {
    "name": "ipython",
    "version": 3
   },
   "file_extension": ".py",
   "mimetype": "text/x-python",
   "name": "python",
   "nbconvert_exporter": "python",
   "pygments_lexer": "ipython3",
   "version": "3.11.5"
  }
 },
 "nbformat": 4,
 "nbformat_minor": 5
}
